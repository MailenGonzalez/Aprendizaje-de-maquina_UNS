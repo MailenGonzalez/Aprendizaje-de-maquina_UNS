{
  "nbformat": 4,
  "nbformat_minor": 0,
  "metadata": {
    "colab": {
      "name": "TP0-ML.ipynb",
      "provenance": []
    },
    "kernelspec": {
      "name": "python3",
      "display_name": "Python 3"
    },
    "language_info": {
      "name": "python"
    }
  },
  "cells": [
    {
      "cell_type": "markdown",
      "metadata": {
        "id": "I6pw3apmaWEG"
      },
      "source": [
        "#Trabajo Práctico 0\n",
        "\n",
        "Dados los cuatro dataset correspondientes al cuarteto de Anscombe, determinar a cual pertenece cada dato.\n",
        "\n"
      ]
    },
    {
      "cell_type": "markdown",
      "metadata": {
        "id": "qx-pCuasa5xE"
      },
      "source": [
        "*Viendo que los parámetros estadisticos de los cuatro datasets son identicos, es necesario realizar una gráfica de los mismos para ver como se comportan los datos en un gráfico de 2 dimensiones:*\n"
      ]
    },
    {
      "cell_type": "code",
      "metadata": {
        "id": "5YY8Us9seKMI"
      },
      "source": [
        "import matplotlib.pyplot as plt\n",
        "import numpy as np\n",
        "\n",
        "datasetI = np.array([\n",
        "    [10.0, 8.04],\n",
        "    [8.0, 6.95],\n",
        "    [13.0, 7.58],\n",
        "    [9.0, 8.81],\n",
        "    [11.0, 8.33],\n",
        "    [14.0, 9.96],\n",
        "    [6.0, 7.24],\n",
        "    [4.0, 4.26],\n",
        "    [12.0, 10.84],\n",
        "    [7.0, 4.82],\n",
        "    [5.0, 5.68]\n",
        "])\n",
        "datasetII = np.array([\n",
        "    [10.0, 9.14],\n",
        "    [8.0, 8.14],\n",
        "    [13.0, 8.74],\n",
        "    [9.0, 8.77],\n",
        "    [11.0, 9.26],\n",
        "    [14.0, 8.10],\n",
        "    [6.0, 6.13],\n",
        "    [4.0, 3.10],\n",
        "    [12.0, 9.13],\n",
        "    [7.0, 7.26],\n",
        "    [5.0, 4.74]\n",
        "])\n",
        "datasetIII = np.array([\n",
        "    [10.0, 7.46],\n",
        "    [8.0, 6.77],\n",
        "    [13.0, 8.74],\n",
        "    [9.0, 12.74],\n",
        "    [11.0, 7.81],\n",
        "    [14.0, 8.84],\n",
        "    [6.0, 6.08],\n",
        "    [4.0, 5.39],\n",
        "    [12.0, 8.15],\n",
        "    [7.0, 6.42],\n",
        "    [5.0, 5.73]\n",
        "])\n",
        "datasetIV = np.array([\n",
        "    [8.0, 6.58],\n",
        "    [8.0, 5.76],\n",
        "    [8.0, 7.71],\n",
        "    [8.0, 8.84],\n",
        "    [8.0, 8.47],\n",
        "    [8.0, 7.04],\n",
        "    [8.0, 5.25],\n",
        "    [19.0, 12.50],\n",
        "    [8.0, 5.56],\n",
        "    [8.0, 7.91],\n",
        "    [8.0, 6.89]\n",
        "])\n",
        "\n"
      ],
      "execution_count": 1,
      "outputs": []
    },
    {
      "cell_type": "code",
      "metadata": {
        "id": "v0loxES_U8eV"
      },
      "source": [
        "x1,y1 = datasetI.T\n",
        "x2,y2 = datasetII.T\n",
        "x3,y3 = datasetIII.T\n",
        "x4,y4 = datasetIV.T\n"
      ],
      "execution_count": 2,
      "outputs": []
    },
    {
      "cell_type": "code",
      "metadata": {
        "colab": {
          "base_uri": "https://localhost:8080/",
          "height": 297
        },
        "id": "gW8VW1DhNcE4",
        "outputId": "cdb42ebc-ee05-48c9-a5b3-3cefa590be7a"
      },
      "source": [
        "#graficamos los 4 conjuntos\n",
        "\n",
        "fig, axs = plt.subplots(2, 2)\n",
        "axs[0, 0].scatter(x1, y1)\n",
        "axs[0, 0].set_title('dataset I')\n",
        "axs[0, 1].scatter(x2, y2)\n",
        "axs[0, 1].set_title('dataset II')\n",
        "axs[1, 0].scatter(x3, y3)\n",
        "axs[1, 0].set_title('dataset III')\n",
        "axs[1, 1].scatter(x4, y4)\n",
        "axs[1, 1].set_title('dataset IV')\n",
        "\n",
        "fig.tight_layout()"
      ],
      "execution_count": 3,
      "outputs": [
        {
          "output_type": "display_data",
          "data": {
            "image/png": "[encoded data removed]",
            "text/plain": [
              "<Figure size 432x288 with 4 Axes>"
            ]
          },
          "metadata": {
            "needs_background": "light"
          }
        }
      ]
    },
    {
      "cell_type": "code",
      "metadata": {
        "colab": {
          "base_uri": "https://localhost:8080/",
          "height": 297
        },
        "id": "wO_audTTW1WW",
        "outputId": "35a92d8e-e002-4959-c67a-d96aa208bc93"
      },
      "source": [
        "#Graficamos el primer punto: (16,8) con un circulo verde\n",
        "p1_x= 16.0\n",
        "p1_y= 8.0\n",
        "fig, axs = plt.subplots(2, 2)\n",
        "axs[0, 0].scatter(x1, y1) \n",
        "axs[0, 0].plot(p1_x, p1_y, 'og')\n",
        "axs[0, 0].set_title('dataset I')\n",
        "axs[0, 1].scatter(x2, y2)\n",
        "axs[0, 1].plot(p1_x, p1_y, 'og')\n",
        "axs[0, 1].set_title('dataset II')\n",
        "axs[1, 0].scatter(x3, y3)\n",
        "axs[1, 0].plot(p1_x, p1_y, 'og')\n",
        "axs[1, 0].set_title('datasetIII')\n",
        "axs[1, 1].scatter(x4, y4)\n",
        "axs[1, 1].plot(p1_x, p1_y, 'og')\n",
        "axs[1, 1].set_title('dataset IV')\n",
        "\n",
        "fig.tight_layout()\n"
      ],
      "execution_count": 4,
      "outputs": [
        {
          "output_type": "display_data",
          "data": {
            "image/png": "[encoded data removed]",
            "text/plain": [
              "<Figure size 432x288 with 4 Axes>"
            ]
          },
          "metadata": {
            "needs_background": "light"
          }
        }
      ]
    },
    {
      "cell_type": "markdown",
      "metadata": {
        "id": "1FXqUQpRa4pn"
      },
      "source": [
        "-------\n",
        "\n",
        "Podemos suponer que el **punto 1** pertenece al **dataset 1**, ya que es el que mejor se adapta a la distribucion de puntos en la grafica\n",
        "\n",
        "\n",
        "---------"
      ]
    },
    {
      "cell_type": "code",
      "metadata": {
        "colab": {
          "base_uri": "https://localhost:8080/",
          "height": 297
        },
        "id": "LZcVePLrdt6g",
        "outputId": "73127af6-2d75-4ad8-dc42-592b9c8bcc62"
      },
      "source": [
        "#Graficamos el segundo punto: (8,6) con un triangulo verde\n",
        "p2_x= 8.0\n",
        "p2_y= 6.0\n",
        "fig, axs = plt.subplots(2, 2)\n",
        "axs[0, 0].scatter(x1, y1)\n",
        "axs[0, 0].plot(p2_x, p2_y, '^g')\n",
        "axs[0, 0].set_title('dataset I')\n",
        "axs[0, 1].scatter(x2, y2)\n",
        "axs[0, 1].plot(p2_x, p2_y, '^g')\n",
        "axs[0, 1].set_title('dataset II')\n",
        "axs[1, 0].scatter(x3, y3)\n",
        "axs[1, 0].plot(p2_x, p2_y, '^g')\n",
        "axs[1, 0].set_title('dataset III')\n",
        "axs[1, 1].scatter(x4, y4)\n",
        "axs[1, 1].plot(p2_x, p2_y, '^g')\n",
        "axs[1, 1].set_title('dataset IV')\n",
        "\n",
        "fig.tight_layout()"
      ],
      "execution_count": 5,
      "outputs": [
        {
          "output_type": "display_data",
          "data": {
            "image/png": "[encoded data removed]",
            "text/plain": [
              "<Figure size 432x288 with 4 Axes>"
            ]
          },
          "metadata": {
            "needs_background": "light"
          }
        }
      ]
    },
    {
      "cell_type": "markdown",
      "metadata": {
        "id": "mAIsfPjtixbs"
      },
      "source": [
        "-------\n",
        "\n",
        "Podemos suponer que el **punto 2** pertenece al **dataset 4**, ya que es el que mejor se adapta a la distribucion de puntos en la grafica\n",
        "\n",
        "\n",
        "---------"
      ]
    },
    {
      "cell_type": "code",
      "metadata": {
        "colab": {
          "base_uri": "https://localhost:8080/",
          "height": 297
        },
        "id": "PEcJMkE_faZM",
        "outputId": "572e96c3-b427-4df2-ea20-ee00320c6a45"
      },
      "source": [
        "#Graficamos el tercer punto: (16,10) con una estrella verde\n",
        "p3_x= 16.0\n",
        "p3_y= 10.0\n",
        "fig, axs = plt.subplots(2, 2)\n",
        "axs[0, 0].scatter(x1, y1)\n",
        "axs[0, 0].plot(p3_x, p3_y, '*g')\n",
        "axs[0, 0].set_title('dataset I')\n",
        "axs[0, 1].scatter(x2, y2)\n",
        "axs[0, 1].plot(p3_x, p3_y, '*g')\n",
        "axs[0, 1].set_title('dataset II')\n",
        "axs[1, 0].scatter(x3, y3)\n",
        "axs[1, 0].plot(p3_x, p3_y, '*g')\n",
        "axs[1, 0].set_title('dataset III')\n",
        "axs[1, 1].scatter(x4, y4)\n",
        "axs[1, 1].plot(p3_x, p3_y, '*g')\n",
        "axs[1, 1].set_title('dataset IV')\n",
        "\n",
        "fig.tight_layout()"
      ],
      "execution_count": 6,
      "outputs": [
        {
          "output_type": "display_data",
          "data": {
            "image/png": "[encoded data removed]",
            "text/plain": [
              "<Figure size 432x288 with 4 Axes>"
            ]
          },
          "metadata": {
            "needs_background": "light"
          }
        }
      ]
    },
    {
      "cell_type": "markdown",
      "metadata": {
        "id": "jbCMGYvGfL8M"
      },
      "source": [
        "------\n",
        "\n",
        "Podemos suponer que el **punto 3** pertenece al **dataset 3**, ya que es el que mejor se adapta a la distribucion de puntos en la grafica\n",
        "\n",
        "------\n",
        "\n"
      ]
    },
    {
      "cell_type": "code",
      "metadata": {
        "colab": {
          "base_uri": "https://localhost:8080/",
          "height": 297
        },
        "id": "hHKK7Y96jJPl",
        "outputId": "b8601e55-14e9-4ac1-c312-7501f96399a0"
      },
      "source": [
        "#Graficamos el cuarto punto: (16,6) con una estrella verde\n",
        "p4_x= 16.0\n",
        "p4_y= 6.0\n",
        "fig, axs = plt.subplots(2, 2)\n",
        "axs[0, 0].scatter(x1, y1)\n",
        "axs[0, 0].plot(p4_x, p4_y, '*g')\n",
        "axs[0, 0].set_title('dataset I')\n",
        "axs[0, 1].scatter(x2, y2)\n",
        "axs[0, 1].plot(p4_x, p4_y, '*g')\n",
        "axs[0, 1].set_title('dataset II')\n",
        "axs[1, 0].scatter(x3, y3)\n",
        "axs[1, 0].plot(p4_x, p4_y, '*g')\n",
        "axs[1, 0].set_title('dataset III')\n",
        "axs[1, 1].scatter(x4, y4)\n",
        "axs[1, 1].plot(p4_x, p4_y, '*g')\n",
        "axs[1, 1].set_title('dataset IV')\n",
        "\n",
        "fig.tight_layout()"
      ],
      "execution_count": 7,
      "outputs": [
        {
          "output_type": "display_data",
          "data": {
            "image/png": "[encoded data removed]",
            "text/plain": [
              "<Figure size 432x288 with 4 Axes>"
            ]
          },
          "metadata": {
            "needs_background": "light"
          }
        }
      ]
    },
    {
      "cell_type": "markdown",
      "metadata": {
        "id": "xBVfq7QyjIQv"
      },
      "source": [
        "------\n",
        "\n",
        "Podemos suponer que el **punto 4** pertenece al **dataset 2**, ya que es el que mejor se adapta a la distribucion de puntos en la grafica\n",
        "\n",
        "------"
      ]
    }
  ]
}